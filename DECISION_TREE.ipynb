{
 "cells": [
  {
   "cell_type": "code",
   "execution_count": 31,
   "id": "a396f45c",
   "metadata": {},
   "outputs": [],
   "source": [
    "import pandas as pd\n",
    "import numpy as np\n",
    "import matplotlib.pyplot as plt"
   ]
  },
  {
   "cell_type": "code",
   "execution_count": 32,
   "id": "66f9a774",
   "metadata": {},
   "outputs": [
    {
     "data": {
      "text/html": [
       "<div>\n",
       "<style scoped>\n",
       "    .dataframe tbody tr th:only-of-type {\n",
       "        vertical-align: middle;\n",
       "    }\n",
       "\n",
       "    .dataframe tbody tr th {\n",
       "        vertical-align: top;\n",
       "    }\n",
       "\n",
       "    .dataframe thead th {\n",
       "        text-align: right;\n",
       "    }\n",
       "</style>\n",
       "<table border=\"1\" class=\"dataframe\">\n",
       "  <thead>\n",
       "    <tr style=\"text-align: right;\">\n",
       "      <th></th>\n",
       "      <th>animal_name</th>\n",
       "      <th>hair</th>\n",
       "      <th>feathers</th>\n",
       "      <th>eggs</th>\n",
       "      <th>milk</th>\n",
       "      <th>airborne</th>\n",
       "      <th>aquatic</th>\n",
       "      <th>predator</th>\n",
       "      <th>toothed</th>\n",
       "      <th>backbone</th>\n",
       "      <th>breathes</th>\n",
       "      <th>venomous</th>\n",
       "      <th>fins</th>\n",
       "      <th>legs</th>\n",
       "      <th>tail</th>\n",
       "      <th>domestic</th>\n",
       "      <th>catsize</th>\n",
       "      <th>class_type</th>\n",
       "    </tr>\n",
       "  </thead>\n",
       "  <tbody>\n",
       "    <tr>\n",
       "      <th>0</th>\n",
       "      <td>aardvark</td>\n",
       "      <td>1</td>\n",
       "      <td>0</td>\n",
       "      <td>0</td>\n",
       "      <td>1</td>\n",
       "      <td>0</td>\n",
       "      <td>0</td>\n",
       "      <td>1</td>\n",
       "      <td>1</td>\n",
       "      <td>1</td>\n",
       "      <td>1</td>\n",
       "      <td>0</td>\n",
       "      <td>0</td>\n",
       "      <td>4</td>\n",
       "      <td>0</td>\n",
       "      <td>0</td>\n",
       "      <td>1</td>\n",
       "      <td>1</td>\n",
       "    </tr>\n",
       "    <tr>\n",
       "      <th>1</th>\n",
       "      <td>antelope</td>\n",
       "      <td>1</td>\n",
       "      <td>0</td>\n",
       "      <td>0</td>\n",
       "      <td>1</td>\n",
       "      <td>0</td>\n",
       "      <td>0</td>\n",
       "      <td>0</td>\n",
       "      <td>1</td>\n",
       "      <td>1</td>\n",
       "      <td>1</td>\n",
       "      <td>0</td>\n",
       "      <td>0</td>\n",
       "      <td>4</td>\n",
       "      <td>1</td>\n",
       "      <td>0</td>\n",
       "      <td>1</td>\n",
       "      <td>1</td>\n",
       "    </tr>\n",
       "    <tr>\n",
       "      <th>2</th>\n",
       "      <td>bass</td>\n",
       "      <td>0</td>\n",
       "      <td>0</td>\n",
       "      <td>1</td>\n",
       "      <td>0</td>\n",
       "      <td>0</td>\n",
       "      <td>1</td>\n",
       "      <td>1</td>\n",
       "      <td>1</td>\n",
       "      <td>1</td>\n",
       "      <td>0</td>\n",
       "      <td>0</td>\n",
       "      <td>1</td>\n",
       "      <td>0</td>\n",
       "      <td>1</td>\n",
       "      <td>0</td>\n",
       "      <td>0</td>\n",
       "      <td>4</td>\n",
       "    </tr>\n",
       "    <tr>\n",
       "      <th>3</th>\n",
       "      <td>bear</td>\n",
       "      <td>1</td>\n",
       "      <td>0</td>\n",
       "      <td>0</td>\n",
       "      <td>1</td>\n",
       "      <td>0</td>\n",
       "      <td>0</td>\n",
       "      <td>1</td>\n",
       "      <td>1</td>\n",
       "      <td>1</td>\n",
       "      <td>1</td>\n",
       "      <td>0</td>\n",
       "      <td>0</td>\n",
       "      <td>4</td>\n",
       "      <td>0</td>\n",
       "      <td>0</td>\n",
       "      <td>1</td>\n",
       "      <td>1</td>\n",
       "    </tr>\n",
       "    <tr>\n",
       "      <th>4</th>\n",
       "      <td>boar</td>\n",
       "      <td>1</td>\n",
       "      <td>0</td>\n",
       "      <td>0</td>\n",
       "      <td>1</td>\n",
       "      <td>0</td>\n",
       "      <td>0</td>\n",
       "      <td>1</td>\n",
       "      <td>1</td>\n",
       "      <td>1</td>\n",
       "      <td>1</td>\n",
       "      <td>0</td>\n",
       "      <td>0</td>\n",
       "      <td>4</td>\n",
       "      <td>1</td>\n",
       "      <td>0</td>\n",
       "      <td>1</td>\n",
       "      <td>1</td>\n",
       "    </tr>\n",
       "  </tbody>\n",
       "</table>\n",
       "</div>"
      ],
      "text/plain": [
       "  animal_name  hair  feathers  eggs  milk  airborne  aquatic  predator  \\\n",
       "0    aardvark     1         0     0     1         0        0         1   \n",
       "1    antelope     1         0     0     1         0        0         0   \n",
       "2        bass     0         0     1     0         0        1         1   \n",
       "3        bear     1         0     0     1         0        0         1   \n",
       "4        boar     1         0     0     1         0        0         1   \n",
       "\n",
       "   toothed  backbone  breathes  venomous  fins  legs  tail  domestic  catsize  \\\n",
       "0        1         1         1         0     0     4     0         0        1   \n",
       "1        1         1         1         0     0     4     1         0        1   \n",
       "2        1         1         0         0     1     0     1         0        0   \n",
       "3        1         1         1         0     0     4     0         0        1   \n",
       "4        1         1         1         0     0     4     1         0        1   \n",
       "\n",
       "   class_type  \n",
       "0           1  \n",
       "1           1  \n",
       "2           4  \n",
       "3           1  \n",
       "4           1  "
      ]
     },
     "execution_count": 32,
     "metadata": {},
     "output_type": "execute_result"
    }
   ],
   "source": [
    "df= pd.read_csv(\"/home/admn/Downloads/zoos.csv\")\n",
    "df.head()"
   ]
  },
  {
   "cell_type": "code",
   "execution_count": 33,
   "id": "9c81f474",
   "metadata": {},
   "outputs": [
    {
     "name": "stdout",
     "output_type": "stream",
     "text": [
      "     hair  feathers  eggs  milk  airborne  aquatic  predator  toothed  \\\n",
      "0       1         0     0     1         0        0         1        1   \n",
      "1       1         0     0     1         0        0         0        1   \n",
      "2       0         0     1     0         0        1         1        1   \n",
      "3       1         0     0     1         0        0         1        1   \n",
      "4       1         0     0     1         0        0         1        1   \n",
      "..    ...       ...   ...   ...       ...      ...       ...      ...   \n",
      "96      1         0     0     1         0        0         0        1   \n",
      "97      1         0     1     0         1        0         0        0   \n",
      "98      1         0     0     1         0        0         1        1   \n",
      "99      0         0     1     0         0        0         0        0   \n",
      "100     0         1     1     0         1        0         0        0   \n",
      "\n",
      "     backbone  breathes  venomous  fins  legs  tail  domestic  catsize  \n",
      "0           1         1         0     0     4     0         0        1  \n",
      "1           1         1         0     0     4     1         0        1  \n",
      "2           1         0         0     1     0     1         0        0  \n",
      "3           1         1         0     0     4     0         0        1  \n",
      "4           1         1         0     0     4     1         0        1  \n",
      "..        ...       ...       ...   ...   ...   ...       ...      ...  \n",
      "96          1         1         0     0     2     1         0        1  \n",
      "97          0         1         1     0     6     0         0        0  \n",
      "98          1         1         0     0     4     1         0        1  \n",
      "99          0         1         0     0     0     0         0        0  \n",
      "100         1         1         0     0     2     1         0        0  \n",
      "\n",
      "[101 rows x 16 columns]\n"
     ]
    }
   ],
   "source": [
    "class_type_output = df[\"class_type\"]\n",
    "df = df.drop(\"class_type\", axis=1).drop(\"animal_name\",axis=1)\n",
    "print(df)\n"
   ]
  },
  {
   "cell_type": "code",
   "execution_count": 34,
   "id": "668ed402",
   "metadata": {},
   "outputs": [],
   "source": [
    "from sklearn.model_selection import train_test_split\n",
    "x_train, x_test, y_train, y_test = train_test_split(df, class_type_output, test_size=0.20)"
   ]
  },
  {
   "cell_type": "code",
   "execution_count": 35,
   "id": "3ba95683",
   "metadata": {},
   "outputs": [
    {
     "data": {
      "text/plain": [
       "array([5, 3, 4, 6, 1, 6, 1, 1, 1, 1, 6, 4, 1, 2, 1, 1, 1, 6, 1, 7, 1])"
      ]
     },
     "execution_count": 35,
     "metadata": {},
     "output_type": "execute_result"
    }
   ],
   "source": [
    "from sklearn.tree import DecisionTreeClassifier\n",
    "classifier = DecisionTreeClassifier()\n",
    "classifier.fit(x_train, y_train)\n",
    "y_prediction = classifier.predict(x_test)\n",
    "y_prediction"
   ]
  },
  {
   "cell_type": "code",
   "execution_count": 36,
   "id": "f466986f",
   "metadata": {},
   "outputs": [
    {
     "data": {
      "text/plain": [
       "array([[11,  0,  0,  0,  0,  0,  0],\n",
       "       [ 0,  1,  0,  0,  0,  0,  0],\n",
       "       [ 0,  0,  1,  0,  0,  0,  0],\n",
       "       [ 0,  0,  0,  2,  0,  0,  0],\n",
       "       [ 0,  0,  0,  0,  1,  0,  0],\n",
       "       [ 0,  0,  0,  0,  0,  1,  0],\n",
       "       [ 0,  0,  0,  0,  0,  3,  1]])"
      ]
     },
     "execution_count": 36,
     "metadata": {},
     "output_type": "execute_result"
    }
   ],
   "source": [
    "from sklearn.metrics import classification_report, confusion_matrix, accuracy_score\n",
    "confusion_matrix(y_test,y_prediction)\n",
    "\n",
    "\n"
   ]
  },
  {
   "cell_type": "code",
   "execution_count": 37,
   "id": "1c8f0e66",
   "metadata": {},
   "outputs": [
    {
     "name": "stdout",
     "output_type": "stream",
     "text": [
      "              precision    recall  f1-score   support\n",
      "\n",
      "           1       1.00      1.00      1.00        11\n",
      "           2       1.00      1.00      1.00         1\n",
      "           3       1.00      1.00      1.00         1\n",
      "           4       1.00      1.00      1.00         2\n",
      "           5       1.00      1.00      1.00         1\n",
      "           6       0.25      1.00      0.40         1\n",
      "           7       1.00      0.25      0.40         4\n",
      "\n",
      "    accuracy                           0.86        21\n",
      "   macro avg       0.89      0.89      0.83        21\n",
      "weighted avg       0.96      0.86      0.86        21\n",
      "\n"
     ]
    }
   ],
   "source": [
    "print(classification_report(y_test, y_prediction))"
   ]
  },
  {
   "cell_type": "code",
   "execution_count": 38,
   "id": "dcda3f0a",
   "metadata": {},
   "outputs": [
    {
     "name": "stdout",
     "output_type": "stream",
     "text": [
      "0.8571428571428571\n"
     ]
    }
   ],
   "source": [
    "print(accuracy_score(y_test, y_prediction))"
   ]
  },
  {
   "cell_type": "code",
   "execution_count": 39,
   "id": "e5c34665",
   "metadata": {},
   "outputs": [
    {
     "name": "stdout",
     "output_type": "stream",
     "text": [
      "Predicted class = 5 \tActual class = 5\n",
      "Predicted class = 3 \tActual class = 3\n",
      "Predicted class = 4 \tActual class = 4\n",
      "Predicted class = 6 \tActual class = 6\n",
      "Predicted class = 1 \tActual class = 1\n",
      "Predicted class = 6 \tActual class = 7\n",
      "Predicted class = 1 \tActual class = 1\n",
      "Predicted class = 1 \tActual class = 1\n",
      "Predicted class = 1 \tActual class = 1\n",
      "Predicted class = 1 \tActual class = 1\n",
      "Predicted class = 6 \tActual class = 7\n",
      "Predicted class = 4 \tActual class = 4\n",
      "Predicted class = 1 \tActual class = 1\n",
      "Predicted class = 2 \tActual class = 2\n",
      "Predicted class = 1 \tActual class = 1\n",
      "Predicted class = 1 \tActual class = 1\n",
      "Predicted class = 1 \tActual class = 1\n",
      "Predicted class = 6 \tActual class = 7\n",
      "Predicted class = 1 \tActual class = 1\n",
      "Predicted class = 7 \tActual class = 7\n",
      "Predicted class = 1 \tActual class = 1\n"
     ]
    }
   ],
   "source": [
    "predicted_class = list(y_prediction)\n",
    "actual_class = list(y_test)\n",
    "for i in range(len(predicted_class)):\n",
    "    print(\"Predicted class =\", predicted_class[i],\"\\tActual class =\",actual_class[i])\n"
   ]
  },
  {
   "cell_type": "code",
   "execution_count": null,
   "id": "b3195ca4",
   "metadata": {},
   "outputs": [],
   "source": []
  }
 ],
 "metadata": {
  "kernelspec": {
   "display_name": "Python 3 (ipykernel)",
   "language": "python",
   "name": "python3"
  },
  "language_info": {
   "codemirror_mode": {
    "name": "ipython",
    "version": 3
   },
   "file_extension": ".py",
   "mimetype": "text/x-python",
   "name": "python",
   "nbconvert_exporter": "python",
   "pygments_lexer": "ipython3",
   "version": "3.7.11"
  }
 },
 "nbformat": 4,
 "nbformat_minor": 5
}
