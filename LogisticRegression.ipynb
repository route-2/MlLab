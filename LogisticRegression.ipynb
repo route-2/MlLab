{
 "cells": [
  {
   "cell_type": "code",
   "execution_count": 1,
   "id": "f0efb8e4",
   "metadata": {},
   "outputs": [
    {
     "name": "stdout",
     "output_type": "stream",
     "text": [
      "The mean or average of all these numbers ( [115.3, 195.5, 120.5, 110.2, 90.4, 105.6, 110.9, 116.3, 122.3, 125.4] ) is 121.24000000000001\n"
     ]
    }
   ],
   "source": [
    "#Mean of the given set of data\n",
    "numb = [115.3, 195.5, 120.5, 110.2, 90.4, 105.6, 110.9, 116.3, 122.3, 125.4]\n",
    "no = len(numb)\n",
    "summ = sum(numb)\n",
    "mean = summ / no\n",
    "print(\"The mean or average of all these numbers (\", numb, \") is\", str(mean))"
   ]
  },
  {
   "cell_type": "code",
   "execution_count": 2,
   "id": "ed63f406",
   "metadata": {},
   "outputs": [
    {
     "name": "stdout",
     "output_type": "stream",
     "text": [
      "The median of the given numbers  ( [90.4, 105.6, 110.2, 110.9, 115.3, 116.3, 120.5, 122.3, 125.4, 195.5] ) is 115.8\n"
     ]
    }
   ],
   "source": [
    "#Median of the given set of data\n",
    "numb = [115.3, 195.5, 120.5, 110.2, 90.4, 105.6, 110.9, 116.3, 122.3, 125.4]\n",
    "no = len(numb)\n",
    "numb.sort()\n",
    "if no % 2 == 0:\n",
    "    median1 = numb[no//2]\n",
    "    median2 = numb[no//2 - 1]\n",
    "    median = (median1 + median2)/2\n",
    "else:\n",
    "    median = numb[no//2]\n",
    "print(\"The median of the given numbers  (\", numb, \") is\", str(median))"
   ]
  },
  {
   "cell_type": "code",
   "execution_count": 11,
   "id": "e156dbb7",
   "metadata": {},
   "outputs": [
    {
     "name": "stdout",
     "output_type": "stream",
     "text": [
      "No mode found\n"
     ]
    }
   ],
   "source": [
    "#Mode of the given set of data\n",
    "import statistics\n",
    "from collections import Counter\n",
    "\n",
    "numb=[115.3, 195.5, 120.5, 110.2, 90.4, 105.6, 110.9, 116.3, 122.3, 125.4]\n",
    "n=len(numb)\n",
    "\n",
    "data = Counter(numb)\n",
    "get_mode = dict(data)\n",
    "mode = [k for k, v in get_mode.items() if v == max(list(data.values()))]\n",
    "if len(mode) == n:\n",
    "    get_mode = \"No mode found\"\n",
    "else:\n",
    "    get_mode = \"Mode of given set of data values is \" + ', '.join(map(str, mode))\n",
    "print(get_mode)  \n"
   ]
  },
  {
   "cell_type": "code",
   "execution_count": 13,
   "id": "1d08d345",
   "metadata": {},
   "outputs": [
    {
     "name": "stdout",
     "output_type": "stream",
     "text": [
      "Standard deviation of given set of data is 26.490987146574962\n"
     ]
    }
   ],
   "source": [
    "#Standard deviation of the given set of data\n",
    "import math\n",
    "numb = [115.3, 195.5, 120.5, 110.2, 90.4, 105.6, 110.9, 116.3, 122.3, 125.4]\n",
    "no = len(numb)\n",
    "summ = sum(numb)\n",
    "mean = summ / no\n",
    "var  = sum(pow(x-mean,2) for x in numb) / no\n",
    "st_devi=math.sqrt(var)\n",
    "print(\"Standard deviation of given set of data is\", st_devi)"
   ]
  },
  {
   "cell_type": "code",
   "execution_count": 16,
   "id": "0e2d67d2",
   "metadata": {},
   "outputs": [
    {
     "name": "stdout",
     "output_type": "stream",
     "text": [
      "variance of given set of data is 701.7724\n"
     ]
    }
   ],
   "source": [
    "#variance of the given set of data\n",
    "numb = [115.3, 195.5, 120.5, 110.2, 90.4, 105.6, 110.9, 116.3, 122.3, 125.4]\n",
    "no = len(numb)\n",
    "summ = sum(numb)\n",
    "mean = summ / no\n",
    "st_var  = sum(pow(x-mean,2) for x in numb) / no\n",
    "print(\"variance of given set of data is\", st_var)"
   ]
  },
  {
   "cell_type": "code",
   "execution_count": null,
   "id": "dd3870a7",
   "metadata": {},
   "outputs": [],
   "source": []
  },
  {
   "cell_type": "code",
   "execution_count": 15,
   "id": "43de5d83",
   "metadata": {},
   "outputs": [
    {
     "name": "stdout",
     "output_type": "stream",
     "text": [
      "   weight  price\n",
      "0     900      6\n",
      "1     350      1\n",
      "2     100      3\n",
      "     weight     price\n",
      "0  1.346638  1.297771\n",
      "1 -0.299253 -1.135550\n",
      "2 -1.047385 -0.162221\n"
     ]
    }
   ],
   "source": [
    "import pandas as pd\n",
    "data = {'weight':[900, 350, 100],\n",
    "        'price':[6, 1, 3]}\n",
    "df = pd.DataFrame(data)\n",
    "print(df)\n",
    "from sklearn.preprocessing import StandardScaler\n",
    "scaler = StandardScaler()\n",
    "standardized_data = scaler.fit_transform(df)\n",
    "standardized_df = pd.DataFrame(standardized_data, columns=df.columns)\n",
    "print(standardized_df)"
   ]
  },
  {
   "cell_type": "code",
   "execution_count": 14,
   "id": "acf4ee4a",
   "metadata": {},
   "outputs": [
    {
     "name": "stdout",
     "output_type": "stream",
     "text": [
      "[[0.11785113 0.1767767  0.29462783 0.35355339 0.41247896 0.23570226\n",
      "  0.47140452 0.41247896 0.35355339]]\n"
     ]
    }
   ],
   "source": [
    "from sklearn import preprocessing\n",
    "import numpy as np\n",
    "x_array = np.array([2,3,5,6,7,4,8,7,6])\n",
    "normalized_arr = preprocessing.normalize([x_array])\n",
    "print(normalized_arr)"
   ]
  },
  {
   "cell_type": "code",
   "execution_count": null,
   "id": "fc52643d",
   "metadata": {},
   "outputs": [],
   "source": []
  }
 ],
 "metadata": {
  "kernelspec": {
   "display_name": "Python 3 (ipykernel)",
   "language": "python",
   "name": "python3"
  },
  "language_info": {
   "codemirror_mode": {
    "name": "ipython",
    "version": 3
   },
   "file_extension": ".py",
   "mimetype": "text/x-python",
   "name": "python",
   "nbconvert_exporter": "python",
   "pygments_lexer": "ipython3",
   "version": "3.7.11"
  }
 },
 "nbformat": 4,
 "nbformat_minor": 5
}
